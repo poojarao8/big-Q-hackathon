{
 "cells": [
  {
   "cell_type": "markdown",
   "metadata": {},
   "source": [
    "<style>\n",
    ".custom-font {\n",
    "    font-family: \"Courier New\", serif;\n",
    "    font-size: 18px;\n",
    "}\n",
    "</style>"
   ]
  },
  {
   "cell_type": "markdown",
   "metadata": {},
   "source": [
    "# CUDA Quantum 101\n",
    "    Important Links \n",
    "    \n",
    "    * Installation \n",
    "        https://nvidia.github.io/cuda-quantum/latest/install.html \n",
    "    * Documentation\n",
    "        https://nvidia.github.io/cuda-quantum/latest/index.html\n",
    "    * CUDA Quantum repo\n",
    "        https://github.com/NVIDIA/cuda-quantum\n",
    "\n",
    "    * CUDA Quantum kernels \n",
    "        https://nvidia.github.io/cuda-quantum/latest/using/cudaq/kernel.html \n",
    "    * Algorithmic primitives\n",
    "        https://nvidia.github.io/cuda-quantum/latest/index.html\n",
    "    * Targets\n",
    "        https://github.com/NVIDIA/cuda-quantum\n",
    "\n",
    "\n",
    "    Outline \n",
    "    \n",
    "    1. What is CUDA Quantum? \n",
    "\n",
    "    2. CUDA Quantum Kernels\n",
    "        2.1 Simple kernels\n",
    "        2.2 Adjoint \n",
    "        2.3 Conditionals \n",
    "\n",
    "    3. Algorithmic primitives\n",
    "        3.1 cudaq.sample() \n",
    "        3.2 cudaq.spin_op()\n",
    "        3.3 cudaq.observe()\n",
    "\n",
    "    4. Parameterized circuits in CUDA Quantum\n",
    "        4.1 VQA with cudaq.observe() and cudaq.optimize() \n",
    "        4.2 VQA with cudaq.vqe() wrapper\n",
    "\n",
    "    5. Targets\n",
    "        5.1 Quantum Hardware Integration\n",
    "        5.2 Quantum Circuit Simulation\n",
    "            5.2.1 cuQuantum Simulator backends\n",
    "                    - Statevector simulator (custatevec)\n",
    "                    - Tensornet simulator (cutensornet)\n",
    "            5.2.2 Density-matrix simulator (dm)\n",
    "            \n",
    "    6. Noise modeling \n",
    "        6.1 Background \n",
    "        6.2 Simple examples\n",
    "            - Bitflip error\n",
    "            - Custom noise model \n",
    "        \n",
    "    7. Scalability 101 "
   ]
  },
  {
   "cell_type": "markdown",
   "metadata": {},
   "source": [
    " ### 1. What is CUDA Quantum?"
   ]
  },
  {
   "cell_type": "markdown",
   "metadata": {},
   "source": [
    "    \n",
    "    * An open-source platform for integrating and programming quantum processing \n",
    "      units (QPUs), GPUS and CPUs in one system.\n",
    "\n",
    "    * Enables dynamic workflow between different system architectures. \n",
    "\n",
    "    * A programming model which extends C++ and Python with quantum kernels, enabling \n",
    "      high-level programming in familiar languages.\n",
    "\n",
    "    * The ability to utilize and seamlessly switch between different quantum technologies, \n",
    "      including state-of-the-art simulator backends with NVIDIA cuQuantum and a number of \n",
    "      different physical quantum processors (QPUs). "
   ]
  },
  {
   "cell_type": "code",
   "execution_count": null,
   "metadata": {},
   "outputs": [],
   "source": [
    "# Import the CUDA Quantum module\n",
    "import cudaq"
   ]
  },
  {
   "cell_type": "markdown",
   "metadata": {},
   "source": [
    "### 2. CUDA Quantum Kernels"
   ]
  },
  {
   "cell_type": "markdown",
   "metadata": {},
   "source": [
    "    2.1 Simple kernel"
   ]
  },
  {
   "cell_type": "code",
   "execution_count": null,
   "metadata": {},
   "outputs": [],
   "source": [
    "# We begin by defining the `Kernel` that we will construct our\n",
    "# program with.\n",
    "kernel = cudaq.make_kernel()"
   ]
  },
  {
   "cell_type": "code",
   "execution_count": null,
   "metadata": {},
   "outputs": [],
   "source": [
    "# Next, we can allocate qubits to the kernel via `qalloc(qubit_count)`.\n",
    "# An empty call to `qalloc` will return a single qubit.\n",
    "qubit = kernel.qalloc()"
   ]
  },
  {
   "cell_type": "code",
   "execution_count": null,
   "metadata": {},
   "outputs": [],
   "source": [
    "# Now we can begin adding instructions to apply to this qubit!\n",
    "# Here we'll just add every non-parameterized\n",
    "# single qubit gates that are supported by CUDA Quantum.\n",
    "kernel.h(qubit)\n",
    "kernel.x(qubit)\n",
    "kernel.y(qubit)\n",
    "kernel.z(qubit)\n",
    "kernel.t(qubit)\n",
    "kernel.s(qubit)"
   ]
  },
  {
   "cell_type": "code",
   "execution_count": null,
   "metadata": {},
   "outputs": [],
   "source": [
    "# Next, we add a measurement to the kernel so that we can sample\n",
    "# the measurement results on our simulator!\n",
    "kernel.mz(qubit)"
   ]
  },
  {
   "cell_type": "code",
   "execution_count": null,
   "metadata": {},
   "outputs": [],
   "source": [
    "# To list other methods and attributes available to the kernel object\n",
    "#dir(kernel)\n",
    "#help(kernel.tdg)"
   ]
  },
  {
   "cell_type": "markdown",
   "metadata": {},
   "source": [
    "    2.1 Adjoint of a Kernel"
   ]
  },
  {
   "cell_type": "code",
   "execution_count": null,
   "metadata": {},
   "outputs": [],
   "source": [
    "import cudaq \n",
    "\n",
    "# Create a kernel and do some operations\n",
    "other_kernel = cudaq.make_kernel()\n",
    "other_qubit = other_kernel.qalloc()\n",
    "other_kernel.x(other_qubit)\n",
    "\n",
    "# Create a kernel, which'll be the adjoint of other_kernel \n",
    "kernel = cudaq.make_kernel()\n",
    "kernel.adjoint(other_kernel)"
   ]
  },
  {
   "cell_type": "markdown",
   "metadata": {},
   "source": [
    "      2.2 Conditional Measurement"
   ]
  },
  {
   "cell_type": "code",
   "execution_count": null,
   "metadata": {},
   "outputs": [],
   "source": [
    "# The conditional measurement functionality of `cudaq.kernel`\n",
    "import cudaq \n",
    "\n",
    "kernel = cudaq.make_kernel()\n",
    "qubit = kernel.qalloc()\n",
    "\n",
    "def then_function():\n",
    "    kernel.x(qubit)\n",
    "\n",
    "kernel.x(qubit)\n",
    "\n",
    "# Measure the qubit.\n",
    "measurement_ = kernel.mz(qubit)\n",
    "# Apply `then_function` to the `kernel` if\n",
    "# the qubit was measured in the 1-state.\n",
    "#kernel.c_if(measurement_, then_function)\n",
    "\n",
    "# Measure the qubit again.\n",
    "result = cudaq.sample(kernel, shots_count=30) # adjust number of shots\n",
    "result.dump()\n",
    "\n",
    "#assert len(result) == 1\n",
    "# Qubit should be in the 0-state after undergoing\n",
    "# two X rotations.\n",
    "#assert '0' in result"
   ]
  },
  {
   "cell_type": "markdown",
   "metadata": {},
   "source": [
    "###     3. Algorithmic primitives"
   ]
  },
  {
   "cell_type": "markdown",
   "metadata": {},
   "source": [
    "    Algorithmic primitives are common programming patterns that have been implemented in \n",
    "    the CUDA Quantum library.\n",
    "\n",
    "    3.1 cudaq.sample()\n",
    "    3.2 cudaq.observe()\n",
    "    3.3 cudaq.spin_op()"
   ]
  },
  {
   "cell_type": "markdown",
   "metadata": {},
   "source": [
    "#### 3.1. cudaq.sample()"
   ]
  },
  {
   "cell_type": "markdown",
   "metadata": {},
   "source": [
    "   \n",
    "    The sample() function performs multiple measurements of the circuit(1000 shots by default) \n",
    "    and returns a dictionary of the measurement outcomes along with their respective counts. \n"
   ]
  },
  {
   "cell_type": "code",
   "execution_count": null,
   "metadata": {},
   "outputs": [],
   "source": [
    "# Finally, we can execute this kernel on the state vector simulator\n",
    "# by calling `cudaq.sample`. This will execute the provided kernel\n",
    "# `shots_count` number of times and return the sampled distribution\n",
    "# as a `cudaq.SampleResult` dictionary.\n",
    "sample_result = cudaq.sample(kernel)\n",
    "\n",
    "# Now let's take a look at the `SampleResult` we've gotten back!\n",
    "print(sample_result)  # or result.dump()     "
   ]
  },
  {
   "cell_type": "markdown",
   "metadata": {},
   "source": [
    "    Putting it all together!"
   ]
  },
  {
   "cell_type": "code",
   "execution_count": null,
   "metadata": {},
   "outputs": [],
   "source": [
    "import cudaq\n",
    "\n",
    "kernel = cudaq.make_kernel()\n",
    "qubit = kernel.qalloc(2)\n",
    "                                  \n",
    "kernel.h(qubit)\n",
    "kernel.x(qubit)\n",
    "kernel.y(qubit)\n",
    "kernel.z(qubit)\n",
    "kernel.t(qubit)\n",
    "kernel.s(qubit)\n",
    "\n",
    "kernel.mz(qubit)\n",
    "\n",
    "# 1000 is the default\n",
    "sample_result = cudaq.sample(kernel, shots_count=2000) \n",
    "\n",
    "print(sample_result)  # or sample_result.dump()  "
   ]
  },
  {
   "cell_type": "code",
   "execution_count": null,
   "metadata": {},
   "outputs": [],
   "source": [
    "# To list other methods and attributes available to the kernel object\n",
    "#dir(sample_result)\n",
    "#help(sample_result.values)"
   ]
  },
  {
   "cell_type": "code",
   "execution_count": null,
   "metadata": {},
   "outputs": [],
   "source": [
    "# Extracting data from sample\n",
    "\n",
    "print(f\"most probable = {sample_result.most_probable()}\")\n",
    "print(f\"expectation_value = {sample_result.expectation_z()}\")\n",
    "print(f\"count = {sample_result.count('1')}\")\n",
    "print(f\"probability = {sample_result.probability('1')}\")\n"
   ]
  },
  {
   "cell_type": "code",
   "execution_count": null,
   "metadata": {},
   "outputs": [],
   "source": [
    "# clear results, result should now be empty\n",
    "sample_result.clear()"
   ]
  },
  {
   "cell_type": "markdown",
   "metadata": {},
   "source": [
    "####  3.2. cudaq.spin_op()"
   ]
  },
  {
   "cell_type": "markdown",
   "metadata": {},
   "source": [
    "     \n",
    "    The spin_op represents a general sum of Pauli tensor products. It exposes the typical \n",
    "    algebraic operations that allow programmers to define primitive Pauli operators and use\n",
    "    them to compose larger, more complex Pauli tensor products and sums thereof. \n",
    "\n",
    "    Let's say our Hamitonian is $Z_0 \\otimes I_1 + I_0 \\otimes X_1 + Y_0 \\otimes I_1 + Y_0 \\otimes Y_1$."
   ]
  },
  {
   "cell_type": "code",
   "execution_count": null,
   "metadata": {},
   "outputs": [],
   "source": [
    "# Importing the spin_op\n",
    "from cudaq import spin\n",
    "\n",
    "# the obseravle \n",
    "hamiltonian = spin.z(0) + spin.x(1) + spin.y(0) + spin.y(0)*spin.y(1)\n",
    "hamiltonian.dump()"
   ]
  },
  {
   "cell_type": "code",
   "execution_count": null,
   "metadata": {},
   "outputs": [],
   "source": [
    "#dir(hamiltonian)\n",
    "#help(hamiltonian.dump)"
   ]
  },
  {
   "cell_type": "markdown",
   "metadata": {},
   "source": [
    "#### 3.3. cudaq.observe()"
   ]
  },
  {
   "cell_type": "markdown",
   "metadata": {},
   "source": [
    " \n",
    "    Compute the expected value of the observable."
   ]
  },
  {
   "cell_type": "code",
   "execution_count": null,
   "metadata": {},
   "outputs": [],
   "source": [
    "# First we need to construct a cuda quantum kernel\n",
    "kernel = cudaq.make_kernel()\n",
    "qreg = kernel.qalloc(2)\n",
    "kernel.x(qreg[0])"
   ]
  },
  {
   "cell_type": "code",
   "execution_count": null,
   "metadata": {},
   "outputs": [],
   "source": [
    "# The cudaq.observe() takes the quantum circuit and the observable as input params\n",
    "observe_result = cudaq.observe(kernel, hamiltonian, shots_count=1000)"
   ]
  },
  {
   "cell_type": "code",
   "execution_count": null,
   "metadata": {},
   "outputs": [],
   "source": [
    "print(observe_result.dump())\n",
    "observe_result.expectation_z()"
   ]
  },
  {
   "cell_type": "code",
   "execution_count": null,
   "metadata": {},
   "outputs": [],
   "source": [
    "# For a complete list of attributes\n",
    "# dir (observe_result)"
   ]
  },
  {
   "cell_type": "markdown",
   "metadata": {},
   "source": [
    "    Putting it all together!"
   ]
  },
  {
   "cell_type": "code",
   "execution_count": null,
   "metadata": {},
   "outputs": [],
   "source": [
    "import cudaq\n",
    "from cudaq import spin\n",
    "\n",
    "# First we need to construct a cuda quantum kernel\n",
    "kernel = cudaq.make_kernel()\n",
    "qreg = kernel.qalloc(2)\n",
    "kernel.x(qreg[0])\n",
    "\n",
    "# The cudaq.observe() takes the quantum circuit and the observable as input params\n",
    "observe_result = cudaq.observe(kernel, hamiltonian, shots_count=10000)\n",
    "\n",
    "print(observe_result.dump())\n",
    "observe_result.expectation_z()"
   ]
  },
  {
   "cell_type": "markdown",
   "metadata": {},
   "source": [
    "### 4. Parameterized circuits"
   ]
  },
  {
   "cell_type": "code",
   "execution_count": null,
   "metadata": {},
   "outputs": [],
   "source": [
    "import cudaq\n",
    "from cudaq import spin\n",
    "\n",
    "# the obserable \n",
    "hamiltonian = 5.907 - 2.1433 * spin.x(0) * spin.x(1) \\\n",
    "            - 2.1433 * spin.y(0) * spin.y(1) + 0.21829 * spin.z(0) \\\n",
    "            - 6.125 * spin.z(1)\n",
    "\n",
    "# parameterized cudaq kernel, the parameter is of type float\n",
    "kernel, theta = cudaq.make_kernel(float)\n",
    "q = kernel.qalloc(2)\n",
    "kernel.x(q[0])\n",
    "kernel.ry(theta, q[1])\n",
    "kernel.cx(q[1], q[0])\n",
    "\n",
    "# observe() takes the kernel, the observable and the kernel paramter(s)\n",
    "# as args\n",
    "observe_result = cudaq.observe(kernel, hamiltonian, .59)\n",
    "print(observe_result.dump())\n",
    "observe_result.expectation_z()"
   ]
  },
  {
   "cell_type": "markdown",
   "metadata": {},
   "source": [
    "    4.1 Variational Algorithms in CUDA Quantum\n",
    "\n",
    "    Variational algorithms in CUDA Quantum typically leverage the `cudaq.observe(...)` \n",
    "    function in tandem with the `cudaq.optimizer`.\n",
    "    One can choose an optimization strategy provided as specific sub-types of the `cudaq.optimizer`."
   ]
  },
  {
   "cell_type": "code",
   "execution_count": null,
   "metadata": {},
   "outputs": [],
   "source": [
    "import cudaq\n",
    "from cudaq import spin\n",
    "\n",
    "# Parameterized circuit with theta as the parameter\n",
    "kernel, theta = cudaq.make_kernel(list)\n",
    "qreg = kernel.qalloc(2)\n",
    "kernel.x(qreg[0])\n",
    "kernel.ry(theta[0], qreg[1])\n",
    "\n",
    "\n",
    "# Observable  \n",
    "hamiltonian = spin.z(0) + spin.x(1) + spin.y(0)\n",
    "\n",
    "# Initialize the gradient-free optimizer COBYLA\n",
    "optimizer = cudaq.optimizers.COBYLA()\n",
    "\n",
    "# Specify the number of iterations (optional)\n",
    "optimizer.max_iterations = 5\n",
    "\n",
    "def cost_function(x):\n",
    "    # cudaq.observe() produces the expected value of a specified observable wrt\n",
    "    # a given parameterized ansatz at given params.\n",
    "    # This value is the cost function wrt which we are optimizing.\n",
    "    observeResult = cudaq.observe(kernel, hamiltonian, x)\n",
    "    print (observeResult.expectation_z(), x)\n",
    "    return observeResult.expectation_z()\n",
    "\n",
    "# Carry out the optimization\n",
    "opt_value, opt_theta = optimizer.optimize(dimensions=1, function=cost_function)"
   ]
  },
  {
   "cell_type": "markdown",
   "metadata": {},
   "source": [
    "      4.2 VQE wrapper"
   ]
  },
  {
   "cell_type": "code",
   "execution_count": null,
   "metadata": {},
   "outputs": [],
   "source": [
    "# Import the necessary modules\n",
    "import cudaq\n",
    "from cudaq import spin\n",
    "\n",
    "# Parameterized circuit with theta as the parameter\n",
    "kernel, theta = cudaq.make_kernel(list)\n",
    "qreg = kernel.qalloc(2)\n",
    "kernel.x(qreg[0])\n",
    "kernel.ry(theta[0], qreg[1])\n",
    "\n",
    "# Hamiltonian operator \n",
    "hamiltonian = spin.z(0) + spin.x(1) + spin.y(0)\n",
    "\n",
    "# Initialize the gradient-free optimizer COBYLA\n",
    "optimizer = cudaq.optimizers.COBYLA()\n",
    "\n",
    "# Specify the number of iterations (optional)\n",
    "optimizer.max_iterations = 5\n",
    "\n",
    "# Carry out the optimization\n",
    "opt_value, opt_theta = cudaq.vqe(kernel=kernel, \n",
    "                        spin_operator=hamiltonian,\n",
    "                        optimizer=optimizer,\n",
    "                        parameter_count=1)\n",
    "\n",
    "print(f\"\\nminimized <H> = {round(opt_value,16)}\")\n",
    "print(f\"optimal theta = {round(opt_theta[0],16)}\")"
   ]
  },
  {
   "cell_type": "markdown",
   "metadata": {},
   "source": []
  },
  {
   "cell_type": "markdown",
   "metadata": {},
   "source": [
    "### 5. CUDA Quantum `target` \n",
    "\n",
    "     A `target` is a specification of the desired platform and simulator / QPU. It can be \n",
    "     specified as a runtime flag in Python. Alteratively, it can also be specified within \n",
    "     the application code. \n",
    "\n",
    "     Simulation backends\n",
    "    - state-vector (`cuStateVec`) \n",
    "    - tensor-network (`cuTensorNet`)\n",
    "    - density-matrix (`dm`) \n",
    "\n",
    "     Hardware support\n",
    "    - CPU only, multi-threaded   \n",
    "    - Single GPU   \n",
    "    - Multi-GPU \n",
    "    - Multi-QPU \n",
    "    - QPU "
   ]
  },
  {
   "cell_type": "code",
   "execution_count": null,
   "metadata": {},
   "outputs": [],
   "source": [
    "# Print all the available targets on your machine\n",
    "import cudaq\n",
    "\n",
    "targets = cudaq.get_targets()\n",
    "\n",
    "for t in targets:\n",
    "     print(t)"
   ]
  },
  {
   "cell_type": "markdown",
   "metadata": {},
   "source": [
    "#### 5.1 Quantum Hardware Integration"
   ]
  },
  {
   "cell_type": "code",
   "execution_count": null,
   "metadata": {},
   "outputs": [],
   "source": [
    "# This code will give an error!!!!!\n",
    "import cudaq\n",
    "\n",
    "# Set the target \n",
    "cudaq.set_target(\"quantinuum\")\n",
    "\n",
    "# Create the kernel we'd like to execute on Quantinuum.\n",
    "kernel = cudaq.make_kernel()\n",
    "qubits = kernel.qalloc(2)\n",
    "kernel.h(qubits[0])\n",
    "kernel.cx(qubits[0], qubits[1])\n",
    "kernel.mz(qubits)\n",
    "\n",
    "# Submit to Quantinuum's endpoint and confirm the program is valid.\n",
    "\n",
    "# By using the synchronous `cudaq.sample`, the execution of\n",
    "# any remaining classical code in the file will occur only\n",
    "# after the job has been executed by the Quantinuum service.\n",
    "# We will use the synchronous call to submit to the syntax\n",
    "# checker to confirm the validity of the program.\n",
    "counts = cudaq.sample(kernel)\n",
    "counts.dump()\n",
    "assert (len(counts) == 2)\n",
    "assert ('00' in counts)\n",
    "assert ('11' in counts)"
   ]
  },
  {
   "cell_type": "markdown",
   "metadata": {},
   "source": [
    "### 5.2 Simulator backends \n",
    "\n",
    "    cuQuantum is CUDA Quantum's workhorse for quantum circuit simulation. \n",
    "    It is a high performance library containing the following two types of simulators.\n",
    "\n",
    "##### Statevector simulator    \n",
    "    * State vector simulators serve as the main vehicle for circuit simulations. \n",
    "    * They maintain an accurate representation of the quantum state, known as the \n",
    "      state vector, throughout the simulation. \n",
    "    * Each gate that is applied corresponds to a matrix-vector multiplication.\n",
    "\n",
    "##### Tensornet simulator \n",
    "    * The tensor network method is a technique that represents the quantum state \n",
    "      of N qubits as a series of tensor contractions.\n",
    "    * The main challenge is to compute these tensor contractions efficiently. \n",
    "    * It can handle a large number of qubits for short circut depths.\n",
    "\n",
    "    Note: To run with the cutensornet target, you will need to pull the CUDA Quantum\n",
    "           docker image with the tag latest-hpc.\n",
    "\n",
    "##### Density matrix simulator\n",
    "    * Simulates quantum circuits under the influence of noise. \n",
    "    * Currently, it calls the QPP library under the hood and has only CPU support.\n",
    "\n",
    "    To discuss the density matrix simulator further, we need to introduce a couple of new concepts."
   ]
  },
  {
   "cell_type": "markdown",
   "metadata": {},
   "source": [
    "Density matrix\n",
    "\n",
    "    The wavefunction or state vector gives a complete description of the quantum state of an isolated quantum system. \n",
    "$\\ket{\\psi}$ --> ket notation for the quantum state represented as a vector\n",
    "\n",
    "\n",
    "    The density matrix representation is a more general representation that is used to describe noisy quantum evolution and decoherence. It can be used to describe the pure states as well as the mixed states, which are a statistical ensemble of the pure states.\n",
    "\n",
    "    In the density matrix notation, a pure state is given by\n",
    "\n",
    "\\begin{equation*}\n",
    "\\rho = \\ket{\\psi} \\bra{\\psi}.\n",
    "\\end{equation*}\n",
    "\n",
    "    A mixed state is repesentated as\n",
    "    \n",
    "\\begin{equation*}\n",
    "\\rho = \\sum_{j} p_j \\ket{\\psi_j} \\bra{\\psi_j}, \n",
    "\\end{equation*}\n",
    "    where the coefficients $p_j$'s are the probabilities associated with each of the states in the ensemble.\n"
   ]
  },
  {
   "cell_type": "markdown",
   "metadata": {},
   "source": [
    "##### Kraus Representation"
   ]
  },
  {
   "cell_type": "markdown",
   "metadata": {},
   "source": [
    "    Various types of noise can be represnted mathematically using the Kraus operators.\n",
    "    \n",
    "\\begin{equation*}\n",
    "\\rho \\mapsto {\\cal{N}}(\\rho) = \\sum_{j} K_j \\rho K_j^{\\dag}\n",
    "\\end{equation*}\n",
    "\n",
    "    with the condition that \n",
    "    \n",
    "\\begin{equation*}\n",
    "\\sum_{j} K_j K_j^{\\dag} = \\mathbb{I}.\n",
    "\\end{equation*}"
   ]
  },
  {
   "cell_type": "markdown",
   "metadata": {},
   "source": [
    "   Bit-flip channel\n",
    "   \n",
    "    - The state of the qubit is chaged from |0⟩ to |1⟩ or vice-versa\n",
    "    - key-operator is Pauli X\n",
    "    - Kraus reprenetation \n",
    "\n",
    "\\begin{equation*}\n",
    "    \\rho = (1-p) \\rho + p X\\rho X \n",
    "\\end{equation*}\n",
    "    with the probability p in [0,1]."
   ]
  },
  {
   "cell_type": "code",
   "execution_count": null,
   "metadata": {},
   "outputs": [],
   "source": [
    "import cudaq\n",
    "\n",
    "# Set the target to our density matrix simulator.\n",
    "cudaq.set_target('density-matrix-cpu')\n",
    "\n",
    "# CUDA Quantum supports several different models of noise. In this case,\n",
    "# we will examine the modeling of decoherence of the qubit state. This\n",
    "# will occur from \"bit flip\" errors, wherein the qubit has a user-specified\n",
    "# probability of undergoing an X-180 rotation.\n",
    "\n",
    "# We will begin by defining an empty noise model that we will add\n",
    "# these decoherence channels to.\n",
    "noise = cudaq.NoiseModel()\n",
    "\n",
    "# Bit flip channel with `1.0` probability of the qubit flipping 180 degrees.\n",
    "bit_flip = cudaq.BitFlipChannel(1.0)\n",
    "# We will apply this channel to any X gate on the qubit, giving each X-gate\n",
    "# a probability of `1.0` of undergoing an extra X-gate.\n",
    "noise.add_channel('x', [0], bit_flip)\n",
    "\n",
    "# Now we may define our simple kernel function and allocate a register\n",
    "# of qubits to it.\n",
    "kernel = cudaq.make_kernel()\n",
    "qubit = kernel.qalloc()\n",
    "\n",
    "# Apply an X-gate to the qubit.\n",
    "# It will remain in the |1> state with a probability of `1 - p = 0.0`.\n",
    "kernel.x(qubit)\n",
    "# Measure.\n",
    "kernel.mz(qubit)\n",
    "\n",
    "# Now we're ready to run the noisy simulation of our kernel.\n",
    "# Note: We must pass the noise model to sample via key-word.\n",
    "noisy_result = cudaq.sample(kernel, noise_model=noise)\n",
    "noisy_result.dump()\n",
    "\n",
    "# Our results should show all measurements in the |0> state, indicating\n",
    "# that the noise has successfully impacted the system.\n",
    "\n",
    "# To confirm this, we can run the simulation again without noise.\n",
    "# We should now see the qubit in the |1> state.\n",
    "noiseless_result = cudaq.sample(kernel)\n",
    "noiseless_result.dump()"
   ]
  },
  {
   "cell_type": "markdown",
   "metadata": {},
   "source": [
    "Custom Noise Model\n",
    "\n",
    "     Here, we demonstrate a custom noise model with the same Kraus operators as in the ampltiude damping channel, but following the same template we can build other noise models such as the Pauli noise model.\n",
    "     "
   ]
  },
  {
   "cell_type": "code",
   "execution_count": null,
   "metadata": {},
   "outputs": [],
   "source": [
    "import cudaq\n",
    "import numpy as np\n",
    "\n",
    "# Set the target to our density matrix simulator.\n",
    "cudaq.set_target('density-matrix-cpu')\n",
    "\n",
    "# CUDA Quantum supports custom noise models through the definition of\n",
    "# `KrausChannel`'s. In this case, we will define a set of `KrausOperator`'s\n",
    "# that  affect the same noise as the `AmplitudeDampingChannel`. This\n",
    "# channel will model the energy dissipation within our system via\n",
    "# environmental interactions. With a variable probability, it will\n",
    "# return the qubit to the |0> state.\n",
    "\n",
    "# We will begin by defining an empty noise model that we will add\n",
    "# our Kraus Channel to.\n",
    "noise = cudaq.NoiseModel()\n",
    "\n",
    "\n",
    "# We will define our Kraus Operators within functions, as to\n",
    "# allow for easy control over the noise probability.\n",
    "def kraus_operators(probability):\n",
    "    \"\"\"See Nielsen, Chuang Chapter 8.3.5 for definition source.\"\"\"\n",
    "    kraus_0 = np.array([[1, 0], [0, np.sqrt(1 - probability)]],\n",
    "                       dtype=np.complex128)\n",
    "    kraus_1 = np.array([[0, 0], [np.sqrt(probability), 0]], dtype=np.complex128)\n",
    "    return [kraus_0, kraus_1]\n",
    "\n",
    "\n",
    "# Manually defined amplitude damping channel with `1.0` probability\n",
    "# of the qubit decaying to the ground state.\n",
    "amplitude_damping = cudaq.KrausChannel(kraus_operators(1.0))\n",
    "# We will apply this channel to any Hadamard gate on the qubit.\n",
    "# Meaning, after each Hadamard on the qubit, there will be a\n",
    "# probability of `1.0` that the qubit decays back to ground.\n",
    "noise.add_channel('h', [0], amplitude_damping)\n",
    "\n",
    "# Now we may define our simple kernel function and allocate a qubit.\n",
    "kernel = cudaq.make_kernel()\n",
    "qubit = kernel.qalloc()\n",
    "\n",
    "# Then we apply a Hadamard gate to the qubit.\n",
    "# This will bring it to `1/sqrt(2) (|0> + |1>)`, where it will remain\n",
    "# with a probability of `1 - p = 0.0`.\n",
    "kernel.h(qubit)\n",
    "\n",
    "# Measure.\n",
    "kernel.mz(qubit)\n",
    "\n",
    "# Now we're ready to run the noisy simulation of our kernel.\n",
    "# Note: We must pass the noise model to sample via key-word.\n",
    "noisy_result = cudaq.sample(kernel, noise_model=noise)\n",
    "noisy_result.dump()\n",
    "\n",
    "# Our results should show all measurements in the |0> state, indicating\n",
    "# that the noise has successfully impacted the system.\n",
    "\n",
    "# To confirm this, we can run the simulation again without noise.\n",
    "# The qubit will now have a 50/50 mix of measurements between\n",
    "# |0> and |1>.\n",
    "noiseless_result = cudaq.sample(kernel)\n",
    "noiseless_result.dump()"
   ]
  },
  {
   "cell_type": "markdown",
   "metadata": {},
   "source": [
    "###  7. Power of GPU acceleration 101"
   ]
  },
  {
   "cell_type": "markdown",
   "metadata": {},
   "source": [
    "    Make sure that that your Docker container was launched with the `--gpus all` flag turned on."
   ]
  },
  {
   "cell_type": "markdown",
   "metadata": {},
   "source": [
    "    Bell State \n",
    " $\\dfrac{1}{\\sqrt{2}}(\\ket{00} +\\ket{11})$, maximally entangled 2-qubit state.\n",
    "\n",
    "    GHZ state\n",
    "$\\dfrac{1}{\\sqrt{2}}(\\ket{0}^{\\otimes N} +\\ket{1}^{\\otimes N})$, maximally entangled N-qubit state, $N \\ge 3$."
   ]
  },
  {
   "cell_type": "code",
   "execution_count": null,
   "metadata": {},
   "outputs": [],
   "source": [
    "# To run with available gpu using a command line flag:\n",
    "# python ghz_state.py --target nvidia\n",
    "# To run with cpu (very slow) using a command line flag:\n",
    "# python ghz_state.py\n",
    "\n",
    "\n",
    "import cudaq\n",
    "\n",
    "cudaq.set_target(\"nvidia\") # change target to \"default\" for cpu\n",
    "\n",
    "def ghz_state(N):\n",
    "\n",
    "    kernel = cudaq.make_kernel()\n",
    "    q = kernel.qalloc(N)\n",
    "\n",
    "    kernel.h(q[0])\n",
    "    for i in range(N - 1):\n",
    "      kernel.cx(q[i], q[i + 1])\n",
    "\n",
    "    kernel.mz(q)\n",
    "    return kernel\n",
    "\n",
    "n = 30\n",
    "print(\"Preparing GHZ state for\", n, \"qubits.\")\n",
    "kernel = ghz_state(n)\n",
    "counts = cudaq.sample(kernel)\n",
    "counts.dump()"
   ]
  },
  {
   "cell_type": "markdown",
   "metadata": {},
   "source": [
    "    CPU (AMD Threadripper Pro 5965wx) vs GPU (NVIDIA RTX A6000) timing on my system from a single run: 11m 54s vs 2 seconds."
   ]
  }
 ],
 "metadata": {
  "kernelspec": {
   "display_name": "Python 3",
   "language": "python",
   "name": "python3"
  },
  "language_info": {
   "codemirror_mode": {
    "name": "ipython",
    "version": 3
   },
   "file_extension": ".py",
   "mimetype": "text/x-python",
   "name": "python",
   "nbconvert_exporter": "python",
   "pygments_lexer": "ipython3",
   "version": "3.10.6"
  },
  "orig_nbformat": 4
 },
 "nbformat": 4,
 "nbformat_minor": 2
}
